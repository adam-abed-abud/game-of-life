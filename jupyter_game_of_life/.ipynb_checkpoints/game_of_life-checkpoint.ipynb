{
 "cells": [
  {
   "cell_type": "markdown",
   "metadata": {},
   "source": [
    "## Game of Life\n"
   ]
  },
  {
   "cell_type": "code",
   "execution_count": 1,
   "metadata": {},
   "outputs": [],
   "source": [
    "import numpy\n",
    "import pylab\n",
    "import random\n",
    "import argparse\n",
    "import time\n",
    "import matplotlib.pyplot as plt\n",
    "import subprocess"
   ]
  },
  {
   "cell_type": "code",
   "execution_count": 26,
   "metadata": {},
   "outputs": [],
   "source": [
    "%matplotlib inline\n",
    "import time\n",
    "import pylab as pl\n",
    "from IPython import display\n",
    "\n",
    "class GameOfLife:\n",
    "\n",
    "    def __init__(self, N=100, T=200, percentage=25, write_frequency=5):\n",
    "      \"\"\" Set up Conway's Game of Life. \"\"\"\n",
    "      # Here we create two grids to hold the old and new configurations.\n",
    "      # The size of the grid is N*N points.\n",
    "      # Each point is either alive or dead, represented by integer values of 1 and 0, respectively.\n",
    "      self.N = N\n",
    "      self.old_grid = numpy.zeros(N*N, dtype='i').reshape(N,N)\n",
    "      self.new_grid = numpy.zeros(N*N, dtype='i').reshape(N,N)\n",
    "      self.T = T # number of steps\n",
    "      self.percentage = percentage #percentage of grid to populate\n",
    "      self.write_freq = write_frequency\n",
    "\n",
    "      # Set up a random initial configuration for the grid.\n",
    "      for i in range(0, self.N): #rows\n",
    "         for j in range(0, self.N): #columns\n",
    "            if(random.randint(0, 100) < self.percentage):   #populate ~25 % of the grid\n",
    "               self.old_grid[i][j] = 1\n",
    "            else:\n",
    "               self.old_grid[i][j] = 0\n",
    "      \n",
    "    def live_neighbours(self, i, j):\n",
    "      \"\"\" Count the number of live neighbours around point (i, j). \"\"\"\n",
    "      s = 0 # The total number of live neighbours.\n",
    "      # Loop over all the neighbours.\n",
    "      for x in [i-1, i, i+1]: #rows\n",
    "         for y in [j-1, j, j+1]: #columns\n",
    "            if(x == i and y == j):\n",
    "               continue # Skip the current point itself - we only want to count the neighbours!\n",
    "            if(x != self.N and y != self.N):\n",
    "               s += self.old_grid[x][y]\n",
    "            # The remaining branches handle the case where the neighbour is off the end of the grid.\n",
    "            # In this case, we loop back round such that the grid becomes a \"toroidal array\".\n",
    "            elif(x == self.N and y != self.N):\n",
    "               s += self.old_grid[0][y]\n",
    "            elif(x != self.N and y == self.N):\n",
    "               s += self.old_grid[x][0]\n",
    "            else:\n",
    "               s += self.old_grid[0][0]\n",
    "      return s\n",
    "\n",
    "    def start(self):\n",
    "      \"\"\" Start Game of Life simulation. \"\"\"\n",
    "\n",
    "      # Save the initial grid.\n",
    "      fig = plt.figure(num=None, figsize=(12, 10), dpi=80, facecolor='w', edgecolor='k')\n",
    "      ax1 = fig.add_subplot(111)\n",
    "      c = ax1.pcolor(self.old_grid )\n",
    "      ax1.set_title('Game of Life \\n Starting grid')\n",
    "      #fig.tight_layout()\n",
    "      #plt.savefig('starting_grid.png',dpi=500)\n",
    "\n",
    "\n",
    "\n",
    "\n",
    "\n",
    "      t = 1 # Current step\n",
    "      write_frequency = self.write_freq # How frequently we want to output a grid configuration.\n",
    "      while t <= self.T: # Evolve!\n",
    "         print(\"Step number {}\" .format(t))\n",
    "\n",
    "         # Loop over each cell of the grid and apply Game of Life rules.\n",
    "         for i in range(self.N):\n",
    "            for j in range(self.N):\n",
    "               count = self.live_neighbours(i, j)\n",
    "               if(self.old_grid[i][j] == 1 and count < 2):\n",
    "                  self.new_grid[i][j] = 0 # Dead from starvation.\n",
    "               elif(self.old_grid[i][j] == 1 and (count == 2 or count == 3)):\n",
    "                  self.new_grid[i][j] = 1 # Continue living.\n",
    "               elif(self.old_grid[i][j] == 1 and count > 3):\n",
    "                  self.new_grid[i][j] = 0 # Dead from overcrowding.\n",
    "               elif(self.old_grid[i][j] == 0 and count == 3):\n",
    "                  self.new_grid[i][j] = 1 # Alive from reproduction.\n",
    "        \n",
    "         fig = plt.figure(num=None, figsize=(12, 10), dpi=80, facecolor='w', edgecolor='k')\n",
    "         ax1 = fig.add_subplot(111)                   \n",
    "         c = ax1.pcolor(self.new_grid)\n",
    "         ax1.set_title('Game of Life \\n Grid state at step %d' % t)\n",
    "         display.clear_output(wait=True)\n",
    "         #display.display(pl.gcf())\n",
    "         plt.pause(0.05)\n",
    "\n",
    "\n",
    "         # Save the updated configuration.\n",
    "         if(t % write_frequency == 0):          \n",
    "            #plt.savefig(\"generation%d.png\" % t, dpi=500)\n",
    "            print()\n",
    "\n",
    "\n",
    "         # The new configuration becomes the old configuration for the next generation.\n",
    "         self.old_grid = self.new_grid.copy()\n",
    "\n",
    "         # Move on to the next time level\n",
    "         t += 1\n",
    "\n",
    "      plt.show()\n",
    "\n"
   ]
  },
  {
   "cell_type": "code",
   "execution_count": 27,
   "metadata": {},
   "outputs": [
    {
     "data": {
      "image/png": "[encoded data removed]",
      "text/plain": [
       "<Figure size 960x800 with 1 Axes>"
      ]
     },
     "metadata": {},
     "output_type": "display_data"
    },
    {
     "name": "stdout",
     "output_type": "stream",
     "text": [
      "\n"
     ]
    }
   ],
   "source": [
    "game = GameOfLife(N = 100, T = 50, percentage = 50 , write_frequency = 1 )\n",
    "game.start()"
   ]
  },
  {
   "cell_type": "code",
   "execution_count": null,
   "metadata": {},
   "outputs": [],
   "source": []
  },
  {
   "cell_type": "code",
   "execution_count": null,
   "metadata": {},
   "outputs": [],
   "source": []
  }
 ],
 "metadata": {
  "kernelspec": {
   "display_name": "Python 3",
   "language": "python",
   "name": "python3"
  },
  "language_info": {
   "codemirror_mode": {
    "name": "ipython",
    "version": 3
   },
   "file_extension": ".py",
   "mimetype": "text/x-python",
   "name": "python",
   "nbconvert_exporter": "python",
   "pygments_lexer": "ipython3",
   "version": "3.6.7rc1"
  }
 },
 "nbformat": 4,
 "nbformat_minor": 2
}
